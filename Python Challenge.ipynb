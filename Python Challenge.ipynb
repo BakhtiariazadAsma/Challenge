{
 "cells": [
  {
   "cell_type": "code",
   "execution_count": 2,
   "id": "8c00ed10",
   "metadata": {},
   "outputs": [
    {
     "name": "stdout",
     "output_type": "stream",
     "text": [
      "A: 9 C: 54\n",
      "A: 3 C: 9\n",
      "A: 5 C: 45\n",
      "A: 7 C: 49\n",
      "A: 1 C: 3\n",
      "A: 9 C: 27\n",
      "A: 8 C: 56\n",
      "A: 4 C: 24\n",
      "A: 7 C: 21\n",
      "A: 4 C: 16\n",
      "A: 7 C: 56\n",
      "A: 3 C: 6\n",
      "A: 5 C: 25\n",
      "A: 2 C: 14\n",
      "A: 1 C: 8\n",
      "A: 1 C: 1\n",
      "A: 2 C: 12\n",
      "A: 4 C: 8\n",
      "A: 1 C: 1\n",
      "A: 4 C: 4\n",
      "Success! A: 4 B: 1\n"
     ]
    }
   ],
   "source": [
    "import random\n",
    "\n",
    "def randFun():\n",
    "    while True:\n",
    "        A = random.randint(1, 9)\n",
    "        B = random.randint(1, 9)\n",
    "        C = A * B\n",
    "        print(\"A:\", A, \"C:\", C)\n",
    "        if C == 4:\n",
    "            print(\"Success! A:\", A, \"B:\", B)\n",
    "            break\n",
    "\n",
    "randFun()"
   ]
  },
  {
   "cell_type": "code",
   "execution_count": null,
   "id": "94a41eb2",
   "metadata": {},
   "outputs": [],
   "source": []
  }
 ],
 "metadata": {
  "kernelspec": {
   "display_name": "Python 3",
   "language": "python",
   "name": "python3"
  },
  "language_info": {
   "codemirror_mode": {
    "name": "ipython",
    "version": 3
   },
   "file_extension": ".py",
   "mimetype": "text/x-python",
   "name": "python",
   "nbconvert_exporter": "python",
   "pygments_lexer": "ipython3",
   "version": "3.8.8"
  }
 },
 "nbformat": 4,
 "nbformat_minor": 5
}
